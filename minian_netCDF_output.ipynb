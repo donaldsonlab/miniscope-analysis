{
 "cells": [
  {
   "cell_type": "code",
   "execution_count": null,
   "id": "faf6cd3d",
   "metadata": {},
   "outputs": [],
   "source": [
    "#federico's code to save minian output as netcdf file with modification to save netcdf file in the dpath folder\n",
    "#add this cell immediately after the \"save final results\" cell at end of pipeline\n",
    "\n",
    "minian_ds = open_minian(minian_ds_path)\n",
    "\n",
    "#minian_ds.to_netcdf(\"minian_dataset.nc\")\n",
    "\n",
    "netcdf_path = os.path.join(dpath, \"minian_dataset.nc\")\n",
    "\n",
    "minian_ds.to_netcdf(netcdf_path)"
   ]
  }
 ],
 "metadata": {
  "kernelspec": {
   "display_name": "Python 3 (ipykernel)",
   "language": "python",
   "name": "python3"
  },
  "language_info": {
   "codemirror_mode": {
    "name": "ipython",
    "version": 3
   },
   "file_extension": ".py",
   "mimetype": "text/x-python",
   "name": "python",
   "nbconvert_exporter": "python",
   "pygments_lexer": "ipython3",
   "version": "3.8.13"
  }
 },
 "nbformat": 4,
 "nbformat_minor": 5
}
