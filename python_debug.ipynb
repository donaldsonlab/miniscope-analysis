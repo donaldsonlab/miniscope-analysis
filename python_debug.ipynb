{
 "cells": [
  {
   "cell_type": "code",
   "execution_count": 2,
   "metadata": {},
   "outputs": [],
   "source": [
    "import os\n",
    "import json\n",
    "import glob\n",
    "import re\n",
    "import ffmpeg as fpg\n",
    "import cv2"
   ]
  },
  {
   "cell_type": "code",
   "execution_count": 3,
   "metadata": {},
   "outputs": [],
   "source": [
    "json_file = '/mnt/working_storage/minian/5015/2022_07_29/13_54_34/baseplate/My_V4_Miniscope/metaData.json'\n",
    "\n",
    "def get_framerate(json_file):\n",
    "    with open(json_file) as f:\n",
    "        metadata = json.load(f)\n",
    "    return metadata['frameRate']\n",
    "\n",
    "def get_metadata_file(path):\n",
    "    return os.path.join(path, 'metaData.json')\n"
   ]
  },
  {
   "cell_type": "code",
   "execution_count": 4,
   "metadata": {},
   "outputs": [],
   "source": [
    "def get_video_list(path):\n",
    "    \n",
    "    #create a file list of files that dont start with a .\n",
    "    file_set = [f for f in glob.glob(os.path.join(path,'*.avi')) if not f.startswith('.')]\n",
    "    \n",
    "    #return this list sorted by the digits (regex match \\D to replace all non-digit characters with ''), \n",
    "    #os.path.split(path)[-1] gives us just the filename, leaving out the dates\n",
    "    \n",
    "    return sorted(file_set, key=lambda x: int(re.sub('\\D', '',os.path.split(x)[-1])))\n"
   ]
  },
  {
   "cell_type": "code",
   "execution_count": 5,
   "metadata": {},
   "outputs": [
    {
     "data": {
      "text/plain": [
       "['/mnt/working_storage/minian/22_27_07_baseplate_5120/5120/scope4/2022_07_27/15_59_49/My_V4_Miniscope/0.avi',\n",
       " '/mnt/working_storage/minian/22_27_07_baseplate_5120/5120/scope4/2022_07_27/15_59_49/My_V4_Miniscope/1.avi',\n",
       " '/mnt/working_storage/minian/22_27_07_baseplate_5120/5120/scope4/2022_07_27/15_59_49/My_V4_Miniscope/2.avi',\n",
       " '/mnt/working_storage/minian/22_27_07_baseplate_5120/5120/scope4/2022_07_27/15_59_49/My_V4_Miniscope/3.avi',\n",
       " '/mnt/working_storage/minian/22_27_07_baseplate_5120/5120/scope4/2022_07_27/15_59_49/My_V4_Miniscope/4.avi',\n",
       " '/mnt/working_storage/minian/22_27_07_baseplate_5120/5120/scope4/2022_07_27/15_59_49/My_V4_Miniscope/5.avi',\n",
       " '/mnt/working_storage/minian/22_27_07_baseplate_5120/5120/scope4/2022_07_27/15_59_49/My_V4_Miniscope/6.avi',\n",
       " '/mnt/working_storage/minian/22_27_07_baseplate_5120/5120/scope4/2022_07_27/15_59_49/My_V4_Miniscope/7.avi',\n",
       " '/mnt/working_storage/minian/22_27_07_baseplate_5120/5120/scope4/2022_07_27/15_59_49/My_V4_Miniscope/8.avi',\n",
       " '/mnt/working_storage/minian/22_27_07_baseplate_5120/5120/scope4/2022_07_27/15_59_49/My_V4_Miniscope/9.avi',\n",
       " '/mnt/working_storage/minian/22_27_07_baseplate_5120/5120/scope4/2022_07_27/15_59_49/My_V4_Miniscope/11.avi',\n",
       " '/mnt/working_storage/minian/22_27_07_baseplate_5120/5120/scope4/2022_07_27/15_59_49/My_V4_Miniscope/12.avi',\n",
       " '/mnt/working_storage/minian/22_27_07_baseplate_5120/5120/scope4/2022_07_27/15_59_49/My_V4_Miniscope/13.avi',\n",
       " '/mnt/working_storage/minian/22_27_07_baseplate_5120/5120/scope4/2022_07_27/15_59_49/My_V4_Miniscope/14.avi',\n",
       " '/mnt/working_storage/minian/22_27_07_baseplate_5120/5120/scope4/2022_07_27/15_59_49/My_V4_Miniscope/15.avi']"
      ]
     },
     "execution_count": 5,
     "metadata": {},
     "output_type": "execute_result"
    }
   ],
   "source": [
    "p = '/mnt/working_storage/minian/22_27_07_baseplate_5120/5120/scope4/2022_07_27/15_59_49/My_V4_Miniscope'\n",
    "get_video_list(p)"
   ]
  },
  {
   "cell_type": "code",
   "execution_count": 9,
   "metadata": {},
   "outputs": [],
   "source": [
    "def create_output_path(path):\n",
    "    '''recursively create an output path'''\n",
    "    head, tail = os.path.split(path)\n",
    "    if not os.path.isdir(head):\n",
    "        create_output_path(head)\n",
    "    else:\n",
    "        os.mkdir(os.path.join(head, tail))"
   ]
  },
  {
   "cell_type": "code",
   "execution_count": 10,
   "metadata": {},
   "outputs": [],
   "source": [
    "create_output_path('/mnt/working_storage/minian/22_27_07_baseplate_5120/5120/scope4/2022_07_27/15_59_49/concat_miniscope')"
   ]
  },
  {
   "cell_type": "code",
   "execution_count": 11,
   "metadata": {},
   "outputs": [],
   "source": [
    "def concat_vid_list(vid_list, output_loc, output_name):\n",
    "    if not os.path.isdir(output_loc):\n",
    "        create_output_path(output_loc)\n",
    "    temp_f = os.path.join(output_loc,'temp_vid_list.txt')\n",
    "    with open(temp_f, 'w') as f:\n",
    "        for vid in vid_list:\n",
    "            f.write(f\"file '{vid}'\\n\")\n",
    "    \n",
    "    ffmpeg_cmd = f\"ffmpeg -f concat -safe 0 -i {temp_f} -c copy {os.path.join(output_loc,output_name)}\"\n",
    "    os.system(ffmpeg_cmd)"
   ]
  },
  {
   "cell_type": "code",
   "execution_count": 14,
   "metadata": {},
   "outputs": [],
   "source": [
    "\n",
    "\n",
    "loc = '/mnt/working_storage/minian/22_07_27_baseplate_5119/5119/scope4/2022_07_27/12_04_49/My_V4_Miniscope'\n",
    "out_loc = '/mnt/working_storage/minian/22_07_27_baseplate_5119/5119/scope4/2022_07_27/12_04_49/concat_miniscope'\n",
    "out_name = '5119_baseplate.avi'\n",
    "\n",
    "vl = get_video_list(loc)\n",
    "concat_vid_list(vl, out_loc, out_name)"
   ]
  },
  {
   "cell_type": "code",
   "execution_count": null,
   "metadata": {},
   "outputs": [],
   "source": []
  }
 ],
 "metadata": {
  "kernelspec": {
   "display_name": "Python 3.8.3 ('computing')",
   "language": "python",
   "name": "python3"
  },
  "language_info": {
   "codemirror_mode": {
    "name": "ipython",
    "version": 3
   },
   "file_extension": ".py",
   "mimetype": "text/x-python",
   "name": "python",
   "nbconvert_exporter": "python",
   "pygments_lexer": "ipython3",
   "version": "3.8.3"
  },
  "orig_nbformat": 4,
  "vscode": {
   "interpreter": {
    "hash": "6734596ee2fada4827f97f55b38ea17869545b7a6595207902043727358f1577"
   }
  }
 },
 "nbformat": 4,
 "nbformat_minor": 2
}
